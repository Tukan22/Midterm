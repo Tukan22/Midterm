{
 "cells": [
  {
   "cell_type": "code",
   "execution_count": null,
   "id": "0d5d12a3",
   "metadata": {},
   "outputs": [],
   "source": [
    "# Midterm code "
   ]
  },
  {
   "cell_type": "code",
   "execution_count": 2,
   "id": "951daa52",
   "metadata": {},
   "outputs": [],
   "source": [
    "import pandas as pd \n",
    "import numpy as np"
   ]
  },
  {
   "cell_type": "markdown",
   "id": "54446475",
   "metadata": {},
   "source": [
    "# Part 1 "
   ]
  },
  {
   "cell_type": "markdown",
   "id": "ec8480e2",
   "metadata": {},
   "source": [
    "## 1.0 Getting the data "
   ]
  },
  {
   "cell_type": "code",
   "execution_count": 9,
   "id": "e748d3ad",
   "metadata": {},
   "outputs": [],
   "source": [
    "ADM = pd.read_csv(\"66851139/data/ADM.csv\")\n",
    "AMD = pd.read_csv(\"66851139/data/AMD.csv\")\n",
    "HSY = pd.read_csv(\"66851139/data/HSY.csv\")\n",
    "RE = pd.read_csv(\"66851139/data/RE.csv\")"
   ]
  },
  {
   "cell_type": "code",
   "execution_count": 21,
   "id": "964845e5",
   "metadata": {},
   "outputs": [],
   "source": [
    "vars = {\"ADM\": ADM, \"AMD\": AMD, \"HSY\": HSY, \"RE\": RE, }\n",
    "tickers = [\"ADM\",\"AMD\",\"HSY\",\"RE\"]"
   ]
  },
  {
   "cell_type": "code",
   "execution_count": 36,
   "id": "b5c3e621",
   "metadata": {},
   "outputs": [
    {
     "name": "stdout",
     "output_type": "stream",
     "text": [
      "         Date   High        Low   Open      Close     Volume  Adj Close\n",
      "0  2017-11-13  40.02  39.700001  39.93  39.740002  2524200.0  34.417995\n",
      "         Date  High    Low   Open  Close    Volume  Adj Close\n",
      "0  2017-11-13  11.2  10.92  11.18  11.09  54068300      11.09\n",
      "         Date        High         Low        Open   Close    Volume  Adj Close\n",
      "0  2017-11-13  109.550003  108.050003  108.769997  108.18  939900.0  97.692398\n",
      "         Date        High         Low        Open       Close    Volume  \\\n",
      "0  2017-11-13  231.210007  228.130005  230.660004  228.550003  410500.0   \n",
      "\n",
      "    Adj Close  \n",
      "0  205.921494  \n"
     ]
    }
   ],
   "source": [
    "for ticker in tickers: \n",
    "    print(vars[ticker].head(1))"
   ]
  },
  {
   "cell_type": "markdown",
   "id": "289005ef",
   "metadata": {},
   "source": [
    "## 1.1 "
   ]
  },
  {
   "cell_type": "code",
   "execution_count": 35,
   "id": "708a94cc",
   "metadata": {},
   "outputs": [
    {
     "name": "stdout",
     "output_type": "stream",
     "text": [
      "Unique values for ADM: [False  True]\n",
      "Unique values for AMD: [ True]\n",
      "Unique values for HSY: [False  True]\n",
      "Unique values for RE: [False  True]\n"
     ]
    }
   ],
   "source": [
    "for ticker in tickers: \n",
    "    print(\"Unique values for \" + str(ticker) + \": \" + str(np.unique(vars[ticker][\"Close\"]==vars[ticker][\"Adj Close\"])))"
   ]
  },
  {
   "cell_type": "code",
   "execution_count": 34,
   "id": "2d5e5116",
   "metadata": {},
   "outputs": [],
   "source": [
    "#print(np.unique(ADM[\"Close\"] == ADM[\"Adj Close\"]))\n",
    "#print(np.unique(AMD[\"Close\"] == AMD[\"Adj Close\"]))\n",
    "#print(np.unique(HSY[\"Close\"] == HSY[\"Adj Close\"]))\n",
    "#print(np.unique(RE[\"Close\"] == RE[\"Adj Close\"]))"
   ]
  },
  {
   "cell_type": "markdown",
   "id": "0ef0efdd",
   "metadata": {},
   "source": [
    "We can see that in the case of the company $HSY$, close=adj. close in the whole time period. \n",
    "\n",
    "$TODO$ Adjustment "
   ]
  },
  {
   "cell_type": "markdown",
   "id": "d92392ed",
   "metadata": {},
   "source": [
    "## 1.2 "
   ]
  },
  {
   "cell_type": "code",
   "execution_count": 52,
   "id": "8ee09ace",
   "metadata": {},
   "outputs": [
    {
     "name": "stdout",
     "output_type": "stream",
     "text": [
      "ADM: maximum: 97.53, minimum: 27.5\n",
      "AMD: maximum: 161.91, minimum: 9.53\n",
      "HSY: maximum: 239.96, minimum: 81.89\n",
      "RE: maximum: 333.16, minimum: 154.6\n"
     ]
    }
   ],
   "source": [
    "for ticker in tickers: \n",
    "    print(str(ticker) + \": maximum: \" + str(np.round(np.max(vars[ticker][\"Adj Close\"]),2)) + \n",
    "          \", minimum: \" + str(np.round(np.min(vars[ticker][\"Adj Close\"]), 2)))"
   ]
  },
  {
   "cell_type": "markdown",
   "id": "15166738",
   "metadata": {},
   "source": [
    "## 1.3 "
   ]
  },
  {
   "cell_type": "code",
   "execution_count": 83,
   "id": "9d4b97aa",
   "metadata": {},
   "outputs": [
    {
     "name": "stdout",
     "output_type": "stream",
     "text": [
      "ADM: maximum: 0.0978, minimum: -0.1061, mean: 0.0008\n",
      "AMD: maximum: 0.1819, minimum: -0.1678, mean: 0.0015\n",
      "HSY: maximum: 0.0995, minimum: -0.1807, mean: 0.0006\n",
      "RE: maximum: 0.1109, minimum: -0.1544, mean: 0.0003\n"
     ]
    }
   ],
   "source": [
    "for ticker in tickers: \n",
    "    vars[ticker][\"Log return\"] = np.append(None, np.diff(np.log(vars[ticker][\"Adj Close\"]))) \n",
    "    print(str(ticker) + \": maximum: \" + str(np.round(np.max(vars[ticker][\"Log return\"]),4)) + \n",
    "          \", minimum: \" + str(np.round(np.min(vars[ticker][\"Log return\"]), 4)) + \n",
    "          \", mean: \" + str(np.round(np.mean(vars[ticker][\"Log return\"]), 4)) #+ \n",
    " #          \", median: \" + str(np.round(np.median(vars[ticker][\"Log return\"]), 4)) \n",
    "          # np.median() does not work with None present and putting there a 0 instead would affect the other results # TODO \n",
    "         )"
   ]
  },
  {
   "cell_type": "code",
   "execution_count": null,
   "id": "c9d94dbd",
   "metadata": {},
   "outputs": [],
   "source": []
  }
 ],
 "metadata": {
  "kernelspec": {
   "display_name": "Python 3 (ipykernel)",
   "language": "python",
   "name": "python3"
  },
  "language_info": {
   "codemirror_mode": {
    "name": "ipython",
    "version": 3
   },
   "file_extension": ".py",
   "mimetype": "text/x-python",
   "name": "python",
   "nbconvert_exporter": "python",
   "pygments_lexer": "ipython3",
   "version": "3.10.9"
  }
 },
 "nbformat": 4,
 "nbformat_minor": 5
}
