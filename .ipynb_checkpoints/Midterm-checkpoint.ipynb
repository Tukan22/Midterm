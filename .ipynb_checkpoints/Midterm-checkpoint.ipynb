{
 "cells": [
  {
   "cell_type": "code",
   "execution_count": null,
   "id": "0d5d12a3",
   "metadata": {},
   "outputs": [],
   "source": [
    "# Midterm code "
   ]
  },
  {
   "cell_type": "code",
   "execution_count": 2,
   "id": "21d64946",
   "metadata": {},
   "outputs": [],
   "source": [
    "import pandas as pd \n",
    "import numpy as np"
   ]
  },
  {
   "cell_type": "markdown",
   "id": "2540db5d",
   "metadata": {},
   "source": [
    "# Part 1 "
   ]
  },
  {
   "cell_type": "markdown",
   "id": "312688ee",
   "metadata": {},
   "source": [
    "## 1.0 Getting the data "
   ]
  },
  {
   "cell_type": "code",
   "execution_count": 97,
   "id": "40ce9f0f",
   "metadata": {},
   "outputs": [],
   "source": [
    "ADM = pd.read_csv(\"66851139/data/ADM.csv\")\n",
    "AMD = pd.read_csv(\"66851139/data/AMD.csv\")\n",
    "HSY = pd.read_csv(\"66851139/data/HSY.csv\")\n",
    "RE = pd.read_csv(\"66851139/data/RE.csv\")"
   ]
  },
  {
   "cell_type": "code",
   "execution_count": 98,
   "id": "1795fd07",
   "metadata": {},
   "outputs": [
    {
     "data": {
      "text/html": [
       "<div>\n",
       "<style scoped>\n",
       "    .dataframe tbody tr th:only-of-type {\n",
       "        vertical-align: middle;\n",
       "    }\n",
       "\n",
       "    .dataframe tbody tr th {\n",
       "        vertical-align: top;\n",
       "    }\n",
       "\n",
       "    .dataframe thead th {\n",
       "        text-align: right;\n",
       "    }\n",
       "</style>\n",
       "<table border=\"1\" class=\"dataframe\">\n",
       "  <thead>\n",
       "    <tr style=\"text-align: right;\">\n",
       "      <th></th>\n",
       "      <th>Date</th>\n",
       "      <th>High</th>\n",
       "      <th>Low</th>\n",
       "      <th>Open</th>\n",
       "      <th>Close</th>\n",
       "      <th>Volume</th>\n",
       "      <th>Adj Close</th>\n",
       "    </tr>\n",
       "  </thead>\n",
       "  <tbody>\n",
       "    <tr>\n",
       "      <th>0</th>\n",
       "      <td>2017-11-13</td>\n",
       "      <td>40.020000</td>\n",
       "      <td>39.700001</td>\n",
       "      <td>39.930000</td>\n",
       "      <td>39.740002</td>\n",
       "      <td>2524200.0</td>\n",
       "      <td>34.417995</td>\n",
       "    </tr>\n",
       "    <tr>\n",
       "      <th>1</th>\n",
       "      <td>2017-11-14</td>\n",
       "      <td>40.660000</td>\n",
       "      <td>39.700001</td>\n",
       "      <td>39.720001</td>\n",
       "      <td>39.790001</td>\n",
       "      <td>4733100.0</td>\n",
       "      <td>34.461292</td>\n",
       "    </tr>\n",
       "    <tr>\n",
       "      <th>2</th>\n",
       "      <td>2017-11-15</td>\n",
       "      <td>39.799999</td>\n",
       "      <td>38.590000</td>\n",
       "      <td>39.259998</td>\n",
       "      <td>38.959999</td>\n",
       "      <td>3783200.0</td>\n",
       "      <td>34.016014</td>\n",
       "    </tr>\n",
       "  </tbody>\n",
       "</table>\n",
       "</div>"
      ],
      "text/plain": [
       "         Date       High        Low       Open      Close     Volume  \\\n",
       "0  2017-11-13  40.020000  39.700001  39.930000  39.740002  2524200.0   \n",
       "1  2017-11-14  40.660000  39.700001  39.720001  39.790001  4733100.0   \n",
       "2  2017-11-15  39.799999  38.590000  39.259998  38.959999  3783200.0   \n",
       "\n",
       "   Adj Close  \n",
       "0  34.417995  \n",
       "1  34.461292  \n",
       "2  34.016014  "
      ]
     },
     "execution_count": 98,
     "metadata": {},
     "output_type": "execute_result"
    }
   ],
   "source": [
    "ADM.head(3)"
   ]
  },
  {
   "cell_type": "code",
   "execution_count": 21,
   "id": "563d00e1",
   "metadata": {},
   "outputs": [],
   "source": [
    "vars = {\"ADM\": ADM, \"AMD\": AMD, \"HSY\": HSY, \"RE\": RE, }\n",
    "tickers = [\"ADM\",\"AMD\",\"HSY\",\"RE\"]"
   ]
  },
  {
   "cell_type": "code",
   "execution_count": 36,
   "id": "cbbf5a0b",
   "metadata": {},
   "outputs": [
    {
     "name": "stdout",
     "output_type": "stream",
     "text": [
      "         Date   High        Low   Open      Close     Volume  Adj Close\n",
      "0  2017-11-13  40.02  39.700001  39.93  39.740002  2524200.0  34.417995\n",
      "         Date  High    Low   Open  Close    Volume  Adj Close\n",
      "0  2017-11-13  11.2  10.92  11.18  11.09  54068300      11.09\n",
      "         Date        High         Low        Open   Close    Volume  Adj Close\n",
      "0  2017-11-13  109.550003  108.050003  108.769997  108.18  939900.0  97.692398\n",
      "         Date        High         Low        Open       Close    Volume  \\\n",
      "0  2017-11-13  231.210007  228.130005  230.660004  228.550003  410500.0   \n",
      "\n",
      "    Adj Close  \n",
      "0  205.921494  \n"
     ]
    }
   ],
   "source": [
    "for ticker in tickers: \n",
    "    print(vars[ticker].head(1))"
   ]
  },
  {
   "cell_type": "markdown",
   "id": "064e4c10",
   "metadata": {},
   "source": [
    "## 1.1 "
   ]
  },
  {
   "cell_type": "code",
   "execution_count": 35,
   "id": "d83224d4",
   "metadata": {},
   "outputs": [
    {
     "name": "stdout",
     "output_type": "stream",
     "text": [
      "Unique values for ADM: [False  True]\n",
      "Unique values for AMD: [ True]\n",
      "Unique values for HSY: [False  True]\n",
      "Unique values for RE: [False  True]\n"
     ]
    }
   ],
   "source": [
    "for ticker in tickers: \n",
    "    print(\"Unique values for \" + str(ticker) + \": \" + str(np.unique(vars[ticker][\"Close\"]==vars[ticker][\"Adj Close\"])))"
   ]
  },
  {
   "cell_type": "code",
   "execution_count": 34,
   "id": "bfe89eb5",
   "metadata": {},
   "outputs": [],
   "source": [
    "#print(np.unique(ADM[\"Close\"] == ADM[\"Adj Close\"]))\n",
    "#print(np.unique(AMD[\"Close\"] == AMD[\"Adj Close\"]))\n",
    "#print(np.unique(HSY[\"Close\"] == HSY[\"Adj Close\"]))\n",
    "#print(np.unique(RE[\"Close\"] == RE[\"Adj Close\"]))"
   ]
  },
  {
   "cell_type": "markdown",
   "id": "6de160ab",
   "metadata": {},
   "source": [
    "We can see that in the case of the company $HSY$, close=adj. close in the whole time period. \n",
    "\n",
    "$TODO$ Adjustment "
   ]
  },
  {
   "cell_type": "markdown",
   "id": "fdb13c82",
   "metadata": {},
   "source": [
    "## 1.2 "
   ]
  },
  {
   "cell_type": "code",
   "execution_count": 52,
   "id": "b096d3cc",
   "metadata": {},
   "outputs": [
    {
     "name": "stdout",
     "output_type": "stream",
     "text": [
      "ADM: maximum: 97.53, minimum: 27.5\n",
      "AMD: maximum: 161.91, minimum: 9.53\n",
      "HSY: maximum: 239.96, minimum: 81.89\n",
      "RE: maximum: 333.16, minimum: 154.6\n"
     ]
    }
   ],
   "source": [
    "for ticker in tickers: \n",
    "    print(str(ticker) + \": maximum: \" + str(np.round(np.max(vars[ticker][\"Adj Close\"]),2)) + \n",
    "          \", minimum: \" + str(np.round(np.min(vars[ticker][\"Adj Close\"]), 2)))"
   ]
  },
  {
   "cell_type": "markdown",
   "id": "ae9b7716",
   "metadata": {},
   "source": [
    "## 1.3 "
   ]
  },
  {
   "cell_type": "code",
   "execution_count": 83,
   "id": "7c19a153",
   "metadata": {},
   "outputs": [
    {
     "name": "stdout",
     "output_type": "stream",
     "text": [
      "ADM: maximum: 0.0978, minimum: -0.1061, mean: 0.0008\n",
      "AMD: maximum: 0.1819, minimum: -0.1678, mean: 0.0015\n",
      "HSY: maximum: 0.0995, minimum: -0.1807, mean: 0.0006\n",
      "RE: maximum: 0.1109, minimum: -0.1544, mean: 0.0003\n"
     ]
    }
   ],
   "source": [
    "for ticker in tickers: \n",
    "    vars[ticker][\"Log return\"] = np.append(None, np.diff(np.log(vars[ticker][\"Adj Close\"]))) \n",
    "    print(str(ticker) + \": maximum: \" + str(np.round(np.max(vars[ticker][\"Log return\"]),4)) + \n",
    "          \", minimum: \" + str(np.round(np.min(vars[ticker][\"Log return\"]), 4)) + \n",
    "          \", mean: \" + str(np.round(np.mean(vars[ticker][\"Log return\"]), 4)) #+ \n",
    " #          \", median: \" + str(np.round(np.median(vars[ticker][\"Log return\"]), 4)) \n",
    "          # np.median() does not work with None present and putting there a 0 instead would affect the other results # TODO \n",
    "         )"
   ]
  },
  {
   "cell_type": "markdown",
   "id": "7f6c2a48",
   "metadata": {},
   "source": [
    "## 1.4 "
   ]
  },
  {
   "cell_type": "code",
   "execution_count": 107,
   "id": "b7382465",
   "metadata": {},
   "outputs": [
    {
     "name": "stdout",
     "output_type": "stream",
     "text": [
      "Maximum return of ADM was reached at number 591 which is the date 2020-03-23 with value of -0.043\n",
      "Maximum return of AMD was reached at number 302 which is the date 2019-01-29 with value of -0.047\n",
      "Maximum return of HSY was reached at number 586 which is the date 2020-03-16 with value of -0.105\n",
      "Maximum return of RE was reached at number 593 which is the date 2020-03-25 with value of -0.06\n"
     ]
    }
   ],
   "source": [
    "for ticker in tickers: \n",
    "    maxid = np.argmax(vars[ticker][\"Log return\"].loc[1:]) \n",
    "    \n",
    "    print(\"Maximum return of \" + str(ticker) + \" was reached at number \" + str(maxid) + \n",
    "         \" which is the date \" + str(vars[ticker][\"Date\"].loc[maxid]) + \" with value of \" + \n",
    "          str(np.round(vars[ticker][\"Log return\"].loc[maxid], 3))\n",
    "         )"
   ]
  },
  {
   "cell_type": "markdown",
   "id": "e2ee9033",
   "metadata": {},
   "source": [
    "This is inconsistent with the previous task so there must be a mistake in at least one of them. $TODO$ "
   ]
  },
  {
   "cell_type": "markdown",
   "id": "4da3da81",
   "metadata": {},
   "source": []
  }
 ],
 "metadata": {
  "kernelspec": {
   "display_name": "Python 3 (ipykernel)",
   "language": "python",
   "name": "python3"
  },
  "language_info": {
   "codemirror_mode": {
    "name": "ipython",
    "version": 3
   },
   "file_extension": ".py",
   "mimetype": "text/x-python",
   "name": "python",
   "nbconvert_exporter": "python",
   "pygments_lexer": "ipython3",
   "version": "3.10.9"
  }
 },
 "nbformat": 4,
 "nbformat_minor": 5
}
