{
 "cells": [
  {
   "cell_type": "code",
   "execution_count": 168,
   "id": "0d5d12a3",
   "metadata": {},
   "outputs": [],
   "source": [
    "# Midterm code "
   ]
  },
  {
   "cell_type": "code",
   "execution_count": 169,
   "id": "b40b9f39",
   "metadata": {},
   "outputs": [],
   "source": [
    "import pandas as pd \n",
    "import numpy as np\n",
    "import matplotlib.pyplot as plt"
   ]
  },
  {
   "cell_type": "markdown",
   "id": "dcc462ff",
   "metadata": {},
   "source": [
    "# Part 1 "
   ]
  },
  {
   "cell_type": "markdown",
   "id": "cde3fce9",
   "metadata": {},
   "source": [
    "## 1.0 Getting the data "
   ]
  },
  {
   "cell_type": "code",
   "execution_count": 170,
   "id": "ab943698",
   "metadata": {},
   "outputs": [],
   "source": [
    "ADM = pd.read_csv(\"66851139/data/ADM.csv\")\n",
    "AMD = pd.read_csv(\"66851139/data/AMD.csv\")\n",
    "HSY = pd.read_csv(\"66851139/data/HSY.csv\")\n",
    "RE = pd.read_csv(\"66851139/data/RE.csv\")"
   ]
  },
  {
   "cell_type": "code",
   "execution_count": 171,
   "id": "a1203f3f",
   "metadata": {},
   "outputs": [
    {
     "data": {
      "text/html": [
       "<div>\n",
       "<style scoped>\n",
       "    .dataframe tbody tr th:only-of-type {\n",
       "        vertical-align: middle;\n",
       "    }\n",
       "\n",
       "    .dataframe tbody tr th {\n",
       "        vertical-align: top;\n",
       "    }\n",
       "\n",
       "    .dataframe thead th {\n",
       "        text-align: right;\n",
       "    }\n",
       "</style>\n",
       "<table border=\"1\" class=\"dataframe\">\n",
       "  <thead>\n",
       "    <tr style=\"text-align: right;\">\n",
       "      <th></th>\n",
       "      <th>Date</th>\n",
       "      <th>High</th>\n",
       "      <th>Low</th>\n",
       "      <th>Open</th>\n",
       "      <th>Close</th>\n",
       "      <th>Volume</th>\n",
       "      <th>Adj Close</th>\n",
       "    </tr>\n",
       "  </thead>\n",
       "  <tbody>\n",
       "    <tr>\n",
       "      <th>0</th>\n",
       "      <td>2017-11-13</td>\n",
       "      <td>40.020000</td>\n",
       "      <td>39.700001</td>\n",
       "      <td>39.930000</td>\n",
       "      <td>39.740002</td>\n",
       "      <td>2524200.0</td>\n",
       "      <td>34.417995</td>\n",
       "    </tr>\n",
       "    <tr>\n",
       "      <th>1</th>\n",
       "      <td>2017-11-14</td>\n",
       "      <td>40.660000</td>\n",
       "      <td>39.700001</td>\n",
       "      <td>39.720001</td>\n",
       "      <td>39.790001</td>\n",
       "      <td>4733100.0</td>\n",
       "      <td>34.461292</td>\n",
       "    </tr>\n",
       "    <tr>\n",
       "      <th>2</th>\n",
       "      <td>2017-11-15</td>\n",
       "      <td>39.799999</td>\n",
       "      <td>38.590000</td>\n",
       "      <td>39.259998</td>\n",
       "      <td>38.959999</td>\n",
       "      <td>3783200.0</td>\n",
       "      <td>34.016014</td>\n",
       "    </tr>\n",
       "  </tbody>\n",
       "</table>\n",
       "</div>"
      ],
      "text/plain": [
       "         Date       High        Low       Open      Close     Volume  \\\n",
       "0  2017-11-13  40.020000  39.700001  39.930000  39.740002  2524200.0   \n",
       "1  2017-11-14  40.660000  39.700001  39.720001  39.790001  4733100.0   \n",
       "2  2017-11-15  39.799999  38.590000  39.259998  38.959999  3783200.0   \n",
       "\n",
       "   Adj Close  \n",
       "0  34.417995  \n",
       "1  34.461292  \n",
       "2  34.016014  "
      ]
     },
     "execution_count": 171,
     "metadata": {},
     "output_type": "execute_result"
    }
   ],
   "source": [
    "ADM.head(3)"
   ]
  },
  {
   "cell_type": "code",
   "execution_count": 172,
   "id": "ddd82f4a",
   "metadata": {},
   "outputs": [],
   "source": [
    "vars = {\"ADM\": ADM, \"AMD\": AMD, \"HSY\": HSY, \"RE\": RE, }\n",
    "tickers = [\"ADM\",\"AMD\",\"HSY\",\"RE\"]"
   ]
  },
  {
   "cell_type": "code",
   "execution_count": 173,
   "id": "5b84c2a1",
   "metadata": {},
   "outputs": [
    {
     "name": "stdout",
     "output_type": "stream",
     "text": [
      "         Date   High        Low   Open      Close     Volume  Adj Close\n",
      "0  2017-11-13  40.02  39.700001  39.93  39.740002  2524200.0  34.417995\n",
      "         Date  High    Low   Open  Close    Volume  Adj Close\n",
      "0  2017-11-13  11.2  10.92  11.18  11.09  54068300      11.09\n",
      "         Date        High         Low        Open   Close    Volume  Adj Close\n",
      "0  2017-11-13  109.550003  108.050003  108.769997  108.18  939900.0  97.692398\n",
      "         Date        High         Low        Open       Close    Volume  \\\n",
      "0  2017-11-13  231.210007  228.130005  230.660004  228.550003  410500.0   \n",
      "\n",
      "    Adj Close  \n",
      "0  205.921494  \n"
     ]
    }
   ],
   "source": [
    "for ticker in tickers: \n",
    "    print(vars[ticker].head(1))"
   ]
  },
  {
   "cell_type": "markdown",
   "id": "ae7f6f23",
   "metadata": {},
   "source": [
    "## 1.1 "
   ]
  },
  {
   "cell_type": "code",
   "execution_count": 174,
   "id": "5cd181ba",
   "metadata": {},
   "outputs": [
    {
     "name": "stdout",
     "output_type": "stream",
     "text": [
      "Unique values for ADM: [False  True]\n",
      "Unique values for AMD: [ True]\n",
      "Unique values for HSY: [False  True]\n",
      "Unique values for RE: [False  True]\n"
     ]
    }
   ],
   "source": [
    "for ticker in tickers: \n",
    "    print(\"Unique values for \" + str(ticker) + \": \" + str(np.unique(vars[ticker][\"Close\"]==vars[ticker][\"Adj Close\"])))"
   ]
  },
  {
   "cell_type": "code",
   "execution_count": 175,
   "id": "7f68634b",
   "metadata": {},
   "outputs": [],
   "source": [
    "#print(np.unique(ADM[\"Close\"] == ADM[\"Adj Close\"]))\n",
    "#print(np.unique(AMD[\"Close\"] == AMD[\"Adj Close\"]))\n",
    "#print(np.unique(HSY[\"Close\"] == HSY[\"Adj Close\"]))\n",
    "#print(np.unique(RE[\"Close\"] == RE[\"Adj Close\"]))"
   ]
  },
  {
   "cell_type": "markdown",
   "id": "dd24ea5e",
   "metadata": {},
   "source": [
    "We can see that in the case of the company $HSY$, close=adj. close in the whole time period. \n",
    "\n",
    "$TODO$ Adjustment "
   ]
  },
  {
   "cell_type": "markdown",
   "id": "227ddc7c",
   "metadata": {},
   "source": [
    "## 1.2 "
   ]
  },
  {
   "cell_type": "code",
   "execution_count": 176,
   "id": "c567b3e5",
   "metadata": {},
   "outputs": [
    {
     "name": "stdout",
     "output_type": "stream",
     "text": [
      "ADM: maximum: 97.53, minimum: 27.5\n",
      "AMD: maximum: 161.91, minimum: 9.53\n",
      "HSY: maximum: 239.96, minimum: 81.89\n",
      "RE: maximum: 333.16, minimum: 154.6\n"
     ]
    }
   ],
   "source": [
    "for ticker in tickers: \n",
    "    print(str(ticker) + \": maximum: \" + str(np.round(np.max(vars[ticker][\"Adj Close\"]),2)) + \n",
    "          \", minimum: \" + str(np.round(np.min(vars[ticker][\"Adj Close\"]), 2)))"
   ]
  },
  {
   "cell_type": "markdown",
   "id": "061356db",
   "metadata": {},
   "source": [
    "## 1.3 "
   ]
  },
  {
   "cell_type": "code",
   "execution_count": 177,
   "id": "728f795b",
   "metadata": {},
   "outputs": [
    {
     "name": "stdout",
     "output_type": "stream",
     "text": [
      "ADM: maximum: 0.0978, minimum: -0.1061, mean: 0.0008\n",
      "AMD: maximum: 0.1819, minimum: -0.1678, mean: 0.0015\n",
      "HSY: maximum: 0.0995, minimum: -0.1807, mean: 0.0006\n",
      "RE: maximum: 0.1109, minimum: -0.1544, mean: 0.0003\n"
     ]
    }
   ],
   "source": [
    "for ticker in tickers: \n",
    "    vars[ticker][\"Log return\"] = np.append(None, np.diff(np.log(vars[ticker][\"Adj Close\"]))) \n",
    "    print(str(ticker) + \": maximum: \" + str(np.round(np.max(vars[ticker][\"Log return\"]),4)) + \n",
    "          \", minimum: \" + str(np.round(np.min(vars[ticker][\"Log return\"]), 4)) + \n",
    "          \", mean: \" + str(np.round(np.mean(vars[ticker][\"Log return\"]), 4)) #+ \n",
    " #          \", median: \" + str(np.round(np.median(vars[ticker][\"Log return\"]), 4)) \n",
    "          # np.median() does not work with None present and putting there a 0 instead would affect the other results # TODO \n",
    "         )"
   ]
  },
  {
   "cell_type": "markdown",
   "id": "41585f6a",
   "metadata": {},
   "source": [
    "## 1.4 "
   ]
  },
  {
   "cell_type": "code",
   "execution_count": 178,
   "id": "b6662be3",
   "metadata": {},
   "outputs": [
    {
     "name": "stdout",
     "output_type": "stream",
     "text": [
      "Maximum return of ADM was reached at number 592 which is the date 2020-03-24 with value of 0.0978\n",
      "Maximum return of AMD was reached at number 303 which is the date 2019-01-30 with value of 0.1819\n",
      "Maximum return of HSY was reached at number 587 which is the date 2020-03-17 with value of 0.0995\n",
      "Maximum return of RE was reached at number 594 which is the date 2020-03-26 with value of 0.1109\n"
     ]
    }
   ],
   "source": [
    "for ticker in tickers: \n",
    "    maxid = np.argmax(vars[ticker][\"Log return\"].loc[1:])+1 # The adjustment is needed due to the None at the beginning \n",
    "    # print(vars[ticker][\"Log return\"].loc[0:])\n",
    "    \n",
    "    print(\"Maximum return of \" + str(ticker) + \" was reached at number \" + str(maxid) + \n",
    "         \" which is the date \" + str(vars[ticker][\"Date\"].loc[maxid]) + \" with value of \" + \n",
    "          str(np.round(vars[ticker][\"Log return\"].loc[maxid], 4))\n",
    "         )"
   ]
  },
  {
   "cell_type": "markdown",
   "id": "a456c289",
   "metadata": {},
   "source": [
    "## 1.5 TODO "
   ]
  },
  {
   "cell_type": "markdown",
   "id": "4e8adb6c",
   "metadata": {},
   "source": [
    "## 1.6 "
   ]
  },
  {
   "cell_type": "code",
   "execution_count": 179,
   "id": "afb0c69d",
   "metadata": {},
   "outputs": [
    {
     "name": "stdout",
     "output_type": "stream",
     "text": [
      "The cumulative total return of ADM is 0.995\n",
      "The cumulative total return of AMD is 1.876\n",
      "The cumulative total return of HSY is 0.807\n",
      "The cumulative total return of RE is 0.405\n"
     ]
    }
   ],
   "source": [
    "for ticker in tickers: \n",
    "    # vars[ticker][\"Cummulative return\"] = (vars[ticker][\"Log return\"] + 1) \n",
    "    # print(vars[ticker].head(4))\n",
    "    print(\"The cumulative total return of \" + str(ticker) + \" is \" + \n",
    "          str(np.round(np.cumsum(vars[ticker][\"Log return\"])[len(vars[ticker])-1], 3))\n",
    "         )"
   ]
  },
  {
   "cell_type": "markdown",
   "id": "d5226646",
   "metadata": {},
   "source": [
    "## 1.7 (not working, no time) "
   ]
  },
  {
   "cell_type": "code",
   "execution_count": 183,
   "id": "7928420b",
   "metadata": {},
   "outputs": [
    {
     "data": {
      "image/png": "[encoded data removed]",
      "text/plain": [
       "<Figure size 640x480 with 1 Axes>"
      ]
     },
     "metadata": {},
     "output_type": "display_data"
    }
   ],
   "source": [
    "plt.plot(vars[\"AMD\"][\"Log return\"])\n",
    "plt.show()"
   ]
  },
  {
   "cell_type": "code",
   "execution_count": 193,
   "id": "d851257b",
   "metadata": {},
   "outputs": [
    {
     "name": "stderr",
     "output_type": "stream",
     "text": [
      "C:\\Users\\František Vlach\\AppData\\Local\\Temp\\ipykernel_3620\\4013430871.py:2: SettingWithCopyWarning: \n",
      "A value is trying to be set on a copy of a slice from a DataFrame\n",
      "\n",
      "See the caveats in the documentation: https://pandas.pydata.org/pandas-docs/stable/user_guide/indexing.html#returning-a-view-versus-a-copy\n",
      "  log_returns[\"ADM\"] = vars[\"ADM\"][\"Log return\"].copy()\n"
     ]
    },
    {
     "ename": "TypeError",
     "evalue": "no numeric data to plot",
     "output_type": "error",
     "traceback": [
      "\u001b[1;31m---------------------------------------------------------------------------\u001b[0m",
      "\u001b[1;31mTypeError\u001b[0m                                 Traceback (most recent call last)",
      "Cell \u001b[1;32mIn[193], line 5\u001b[0m\n\u001b[0;32m      3\u001b[0m log_returns[\u001b[38;5;124m\"\u001b[39m\u001b[38;5;124mHSY\u001b[39m\u001b[38;5;124m\"\u001b[39m] \u001b[38;5;241m=\u001b[39m \u001b[38;5;28mvars\u001b[39m[\u001b[38;5;124m\"\u001b[39m\u001b[38;5;124mHSY\u001b[39m\u001b[38;5;124m\"\u001b[39m][\u001b[38;5;124m\"\u001b[39m\u001b[38;5;124mLog return\u001b[39m\u001b[38;5;124m\"\u001b[39m]\u001b[38;5;241m.\u001b[39mcopy() \n\u001b[0;32m      4\u001b[0m log_returns[\u001b[38;5;124m\"\u001b[39m\u001b[38;5;124mRE\u001b[39m\u001b[38;5;124m\"\u001b[39m] \u001b[38;5;241m=\u001b[39m \u001b[38;5;28mvars\u001b[39m[\u001b[38;5;124m\"\u001b[39m\u001b[38;5;124mRE\u001b[39m\u001b[38;5;124m\"\u001b[39m][\u001b[38;5;124m\"\u001b[39m\u001b[38;5;124mLog return\u001b[39m\u001b[38;5;124m\"\u001b[39m]\u001b[38;5;241m.\u001b[39mcopy()  \n\u001b[1;32m----> 5\u001b[0m \u001b[43mlog_returns\u001b[49m\u001b[38;5;241;43m.\u001b[39;49m\u001b[43mplot\u001b[49m\u001b[43m(\u001b[49m\u001b[43m)\u001b[49m\n",
      "File \u001b[1;32mC:\\ProgramData\\anaconda3\\lib\\site-packages\\pandas\\plotting\\_core.py:1000\u001b[0m, in \u001b[0;36mPlotAccessor.__call__\u001b[1;34m(self, *args, **kwargs)\u001b[0m\n\u001b[0;32m    997\u001b[0m             label_name \u001b[38;5;241m=\u001b[39m label_kw \u001b[38;5;129;01mor\u001b[39;00m data\u001b[38;5;241m.\u001b[39mcolumns\n\u001b[0;32m    998\u001b[0m             data\u001b[38;5;241m.\u001b[39mcolumns \u001b[38;5;241m=\u001b[39m label_name\n\u001b[1;32m-> 1000\u001b[0m \u001b[38;5;28;01mreturn\u001b[39;00m plot_backend\u001b[38;5;241m.\u001b[39mplot(data, kind\u001b[38;5;241m=\u001b[39mkind, \u001b[38;5;241m*\u001b[39m\u001b[38;5;241m*\u001b[39mkwargs)\n",
      "File \u001b[1;32mC:\\ProgramData\\anaconda3\\lib\\site-packages\\pandas\\plotting\\_matplotlib\\__init__.py:71\u001b[0m, in \u001b[0;36mplot\u001b[1;34m(data, kind, **kwargs)\u001b[0m\n\u001b[0;32m     69\u001b[0m         kwargs[\u001b[38;5;124m\"\u001b[39m\u001b[38;5;124max\u001b[39m\u001b[38;5;124m\"\u001b[39m] \u001b[38;5;241m=\u001b[39m \u001b[38;5;28mgetattr\u001b[39m(ax, \u001b[38;5;124m\"\u001b[39m\u001b[38;5;124mleft_ax\u001b[39m\u001b[38;5;124m\"\u001b[39m, ax)\n\u001b[0;32m     70\u001b[0m plot_obj \u001b[38;5;241m=\u001b[39m PLOT_CLASSES[kind](data, \u001b[38;5;241m*\u001b[39m\u001b[38;5;241m*\u001b[39mkwargs)\n\u001b[1;32m---> 71\u001b[0m \u001b[43mplot_obj\u001b[49m\u001b[38;5;241;43m.\u001b[39;49m\u001b[43mgenerate\u001b[49m\u001b[43m(\u001b[49m\u001b[43m)\u001b[49m\n\u001b[0;32m     72\u001b[0m plot_obj\u001b[38;5;241m.\u001b[39mdraw()\n\u001b[0;32m     73\u001b[0m \u001b[38;5;28;01mreturn\u001b[39;00m plot_obj\u001b[38;5;241m.\u001b[39mresult\n",
      "File \u001b[1;32mC:\\ProgramData\\anaconda3\\lib\\site-packages\\pandas\\plotting\\_matplotlib\\core.py:450\u001b[0m, in \u001b[0;36mMPLPlot.generate\u001b[1;34m(self)\u001b[0m\n\u001b[0;32m    448\u001b[0m \u001b[38;5;28;01mdef\u001b[39;00m \u001b[38;5;21mgenerate\u001b[39m(\u001b[38;5;28mself\u001b[39m) \u001b[38;5;241m-\u001b[39m\u001b[38;5;241m>\u001b[39m \u001b[38;5;28;01mNone\u001b[39;00m:\n\u001b[0;32m    449\u001b[0m     \u001b[38;5;28mself\u001b[39m\u001b[38;5;241m.\u001b[39m_args_adjust()\n\u001b[1;32m--> 450\u001b[0m     \u001b[38;5;28;43mself\u001b[39;49m\u001b[38;5;241;43m.\u001b[39;49m\u001b[43m_compute_plot_data\u001b[49m\u001b[43m(\u001b[49m\u001b[43m)\u001b[49m\n\u001b[0;32m    451\u001b[0m     \u001b[38;5;28mself\u001b[39m\u001b[38;5;241m.\u001b[39m_setup_subplots()\n\u001b[0;32m    452\u001b[0m     \u001b[38;5;28mself\u001b[39m\u001b[38;5;241m.\u001b[39m_make_plot()\n",
      "File \u001b[1;32mC:\\ProgramData\\anaconda3\\lib\\site-packages\\pandas\\plotting\\_matplotlib\\core.py:635\u001b[0m, in \u001b[0;36mMPLPlot._compute_plot_data\u001b[1;34m(self)\u001b[0m\n\u001b[0;32m    633\u001b[0m \u001b[38;5;66;03m# no non-numeric frames or series allowed\u001b[39;00m\n\u001b[0;32m    634\u001b[0m \u001b[38;5;28;01mif\u001b[39;00m is_empty:\n\u001b[1;32m--> 635\u001b[0m     \u001b[38;5;28;01mraise\u001b[39;00m \u001b[38;5;167;01mTypeError\u001b[39;00m(\u001b[38;5;124m\"\u001b[39m\u001b[38;5;124mno numeric data to plot\u001b[39m\u001b[38;5;124m\"\u001b[39m)\n\u001b[0;32m    637\u001b[0m \u001b[38;5;28mself\u001b[39m\u001b[38;5;241m.\u001b[39mdata \u001b[38;5;241m=\u001b[39m numeric_data\u001b[38;5;241m.\u001b[39mapply(\u001b[38;5;28mself\u001b[39m\u001b[38;5;241m.\u001b[39m_convert_to_ndarray)\n",
      "\u001b[1;31mTypeError\u001b[0m: no numeric data to plot"
     ]
    }
   ],
   "source": [
    "log_returns = vars[\"AMD\"][\"Log return\"]\n",
    "log_returns[\"ADM\"] = vars[\"ADM\"][\"Log return\"].copy() \n",
    "log_returns[\"HSY\"] = vars[\"HSY\"][\"Log return\"].copy() \n",
    "log_returns[\"RE\"] = vars[\"RE\"][\"Log return\"].copy()  \n",
    "log_returns.plot() "
   ]
  },
  {
   "cell_type": "code",
   "execution_count": null,
   "id": "d5b447af",
   "metadata": {},
   "outputs": [],
   "source": []
  },
  {
   "cell_type": "code",
   "execution_count": 191,
   "id": "c2bcdf42",
   "metadata": {},
   "outputs": [
    {
     "name": "stdout",
     "output_type": "stream",
     "text": [
      "0        None\n",
      "1    0.002701\n",
      "2   -0.004507\n",
      "Name: Log return, dtype: object\n"
     ]
    }
   ],
   "source": []
  }
 ],
 "metadata": {
  "kernelspec": {
   "display_name": "Python 3 (ipykernel)",
   "language": "python",
   "name": "python3"
  },
  "language_info": {
   "codemirror_mode": {
    "name": "ipython",
    "version": 3
   },
   "file_extension": ".py",
   "mimetype": "text/x-python",
   "name": "python",
   "nbconvert_exporter": "python",
   "pygments_lexer": "ipython3",
   "version": "3.10.9"
  }
 },
 "nbformat": 4,
 "nbformat_minor": 5
}
