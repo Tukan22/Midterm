{
 "cells": [
  {
   "cell_type": "code",
   "execution_count": null,
   "id": "0d5d12a3",
   "metadata": {},
   "outputs": [],
   "source": [
    "# Midterm code "
   ]
  },
  {
   "cell_type": "code",
   "execution_count": 2,
   "id": "bb8ea760",
   "metadata": {},
   "outputs": [],
   "source": [
    "import pandas as pd \n",
    "import numpy as np"
   ]
  },
  {
   "cell_type": "code",
   "execution_count": 4,
   "id": "33611898",
   "metadata": {},
   "outputs": [],
   "source": [
    "tickers_list = [\"ADM\",\"AMD\",\"HSY\",\"RE\"]"
   ]
  },
  {
   "cell_type": "code",
   "execution_count": 9,
   "id": "60de1502",
   "metadata": {},
   "outputs": [],
   "source": [
    "ADM = pd.read_csv(\"66851139/data/ADM.csv\")\n",
    "AMD = pd.read_csv(\"66851139/data/AMD.csv\")\n",
    "HSY = pd.read_csv(\"66851139/data/HSY.csv\")\n",
    "RE = pd.read_csv(\"66851139/data/RE.csv\")"
   ]
  },
  {
   "cell_type": "code",
   "execution_count": 12,
   "id": "20b5d934",
   "metadata": {},
   "outputs": [
    {
     "name": "stdout",
     "output_type": "stream",
     "text": [
      "         Date       High        Low       Open      Close     Volume  \\\n",
      "0  2017-11-13  40.020000  39.700001  39.930000  39.740002  2524200.0   \n",
      "1  2017-11-14  40.660000  39.700001  39.720001  39.790001  4733100.0   \n",
      "2  2017-11-15  39.799999  38.590000  39.259998  38.959999  3783200.0   \n",
      "3  2017-11-16  39.290001  38.650002  38.980000  39.189999  3283800.0   \n",
      "4  2017-11-17  39.490002  39.049999  39.049999  39.419998  2608500.0   \n",
      "\n",
      "   Adj Close  \n",
      "0  34.417995  \n",
      "1  34.461292  \n",
      "2  34.016014  \n",
      "3  34.216824  \n",
      "4  34.417645  \n",
      "         Date   High    Low   Open  Close    Volume  Adj Close\n",
      "0  2017-11-13  11.20  10.92  11.18  11.09  54068300      11.09\n",
      "1  2017-11-14  11.26  11.00  11.03  11.12  37245000      11.12\n",
      "2  2017-11-15  11.13  10.77  11.01  11.07  33524700      11.07\n",
      "3  2017-11-16  11.32  11.13  11.13  11.25  31800400      11.25\n",
      "4  2017-11-17  11.75  11.28  11.30  11.38  56775600      11.38\n",
      "         Date        High         Low        Open       Close     Volume  \\\n",
      "0  2017-11-13  109.550003  108.050003  108.769997  108.180000   939900.0   \n",
      "1  2017-11-14  110.309998  107.650002  108.000000  109.860001   997800.0   \n",
      "2  2017-11-15  110.949997  107.059998  109.449997  107.419998   924100.0   \n",
      "3  2017-11-16  110.120003  107.559998  108.040001  109.699997  1202700.0   \n",
      "4  2017-11-17  110.639999  108.980003  109.279999  109.099998  1993400.0   \n",
      "\n",
      "   Adj Close  \n",
      "0  97.692398  \n",
      "1  99.209534  \n",
      "2  97.006073  \n",
      "3  99.065041  \n",
      "4  98.523193  \n",
      "         Date        High         Low        Open       Close    Volume  \\\n",
      "0  2017-11-13  231.210007  228.130005  230.660004  228.550003  410500.0   \n",
      "1  2017-11-14  228.600006  225.699997  227.550003  226.130005  425400.0   \n",
      "2  2017-11-15  230.479996  223.539993  225.470001  229.270004  599000.0   \n",
      "3  2017-11-16  229.960007  224.639999  229.309998  225.470001  589300.0   \n",
      "4  2017-11-17  227.589996  224.699997  225.699997  226.320007  832900.0   \n",
      "\n",
      "    Adj Close  \n",
      "0  205.921494  \n",
      "1  203.741119  \n",
      "2  206.570206  \n",
      "3  203.146408  \n",
      "4  203.912277  \n"
     ]
    }
   ],
   "source": [
    "#print(ADM.head())\n",
    "#print(AMD.head())\n",
    "#print(HSY.head())\n",
    "#print(RE.head())"
   ]
  },
  {
   "cell_type": "code",
   "execution_count": 18,
   "id": "e9ec3653",
   "metadata": {},
   "outputs": [
    {
     "name": "stdout",
     "output_type": "stream",
     "text": [
      "[False  True]\n",
      "[ True]\n",
      "[False  True]\n",
      "[False  True]\n"
     ]
    }
   ],
   "source": [
    "print(np.unique(ADM[\"Close\"] == ADM[\"Adj Close\"]))\n",
    "print(np.unique(AMD[\"Close\"] == AMD[\"Adj Close\"]))\n",
    "print(np.unique(HSY[\"Close\"] == HSY[\"Adj Close\"]))\n",
    "print(np.unique(RE[\"Close\"] == RE[\"Adj Close\"]))"
   ]
  },
  {
   "cell_type": "markdown",
   "id": "1787fcbc",
   "metadata": {},
   "source": [
    "We can see that in the case of the company $HSY$, close=adj. close in the whole time period. \n",
    "\n",
    "$TODO$ Adjustment "
   ]
  }
 ],
 "metadata": {
  "kernelspec": {
   "display_name": "Python 3 (ipykernel)",
   "language": "python",
   "name": "python3"
  },
  "language_info": {
   "codemirror_mode": {
    "name": "ipython",
    "version": 3
   },
   "file_extension": ".py",
   "mimetype": "text/x-python",
   "name": "python",
   "nbconvert_exporter": "python",
   "pygments_lexer": "ipython3",
   "version": "3.10.9"
  }
 },
 "nbformat": 4,
 "nbformat_minor": 5
}
